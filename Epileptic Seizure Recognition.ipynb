{
 "cells": [
  {
   "cell_type": "markdown",
   "metadata": {},
   "source": [
    "# Epileptic Seizure Recognition\n",
    "This dataset comes from <a href=\"https://archive.ics.uci.edu/ml/index.php\">here</a> and contains 11500 EEG exams from patients. Each EEG contains 178 variables. The output is divided in 5 categories as follows:\n",
    "\n",
    "1. Recording of seizure activity.\n",
    "\n",
    "2. They recorder the EEG from the area where the tumor was located.\n",
    "\n",
    "3. Yes they identify where the region of the tumor was in the brain and recording the EEG activity from the healthy brain area.\n",
    "\n",
    "4. eyes closed, means when they were recording the EEG signal the patient had their eyes closed.\n",
    "\n",
    "5. eyes open, means when they were recording the EEG signal of the brain the patient had their eyes open.\n",
    "\n",
    "We are mainly interested in class 1, and we can say that classes {2,3,4,5} = 0"
   ]
  },
  {
   "cell_type": "code",
   "execution_count": 1,
   "metadata": {},
   "outputs": [],
   "source": [
    "import joblib\n",
    "import pandas as pd\n",
    "import numpy as np\n",
    "\n",
    "from sklearn import preprocessing\n",
    "from matplotlib import pyplot as plt  \n",
    "from sklearn.metrics import accuracy_score\n",
    "from sklearn.pipeline import make_pipeline\n",
    "from sklearn.metrics import accuracy_score\n",
    "from sklearn.ensemble import RandomForestClassifier\n",
    "from sklearn.model_selection import train_test_split"
   ]
  },
  {
   "cell_type": "code",
   "execution_count": 2,
   "metadata": {},
   "outputs": [
    {
     "data": {
      "text/html": [
       "<div>\n",
       "<style scoped>\n",
       "    .dataframe tbody tr th:only-of-type {\n",
       "        vertical-align: middle;\n",
       "    }\n",
       "\n",
       "    .dataframe tbody tr th {\n",
       "        vertical-align: top;\n",
       "    }\n",
       "\n",
       "    .dataframe thead th {\n",
       "        text-align: right;\n",
       "    }\n",
       "</style>\n",
       "<table border=\"1\" class=\"dataframe\">\n",
       "  <thead>\n",
       "    <tr style=\"text-align: right;\">\n",
       "      <th></th>\n",
       "      <th>Unnamed</th>\n",
       "      <th>X1</th>\n",
       "      <th>X2</th>\n",
       "      <th>X3</th>\n",
       "      <th>X4</th>\n",
       "      <th>X5</th>\n",
       "      <th>X6</th>\n",
       "      <th>X7</th>\n",
       "      <th>X8</th>\n",
       "      <th>X9</th>\n",
       "      <th>...</th>\n",
       "      <th>X170</th>\n",
       "      <th>X171</th>\n",
       "      <th>X172</th>\n",
       "      <th>X173</th>\n",
       "      <th>X174</th>\n",
       "      <th>X175</th>\n",
       "      <th>X176</th>\n",
       "      <th>X177</th>\n",
       "      <th>X178</th>\n",
       "      <th>y</th>\n",
       "    </tr>\n",
       "  </thead>\n",
       "  <tbody>\n",
       "    <tr>\n",
       "      <td>0</td>\n",
       "      <td>X21.V1.791</td>\n",
       "      <td>135</td>\n",
       "      <td>190</td>\n",
       "      <td>229</td>\n",
       "      <td>223</td>\n",
       "      <td>192</td>\n",
       "      <td>125</td>\n",
       "      <td>55</td>\n",
       "      <td>-9</td>\n",
       "      <td>-33</td>\n",
       "      <td>...</td>\n",
       "      <td>-17</td>\n",
       "      <td>-15</td>\n",
       "      <td>-31</td>\n",
       "      <td>-77</td>\n",
       "      <td>-103</td>\n",
       "      <td>-127</td>\n",
       "      <td>-116</td>\n",
       "      <td>-83</td>\n",
       "      <td>-51</td>\n",
       "      <td>4</td>\n",
       "    </tr>\n",
       "    <tr>\n",
       "      <td>1</td>\n",
       "      <td>X15.V1.924</td>\n",
       "      <td>386</td>\n",
       "      <td>382</td>\n",
       "      <td>356</td>\n",
       "      <td>331</td>\n",
       "      <td>320</td>\n",
       "      <td>315</td>\n",
       "      <td>307</td>\n",
       "      <td>272</td>\n",
       "      <td>244</td>\n",
       "      <td>...</td>\n",
       "      <td>164</td>\n",
       "      <td>150</td>\n",
       "      <td>146</td>\n",
       "      <td>152</td>\n",
       "      <td>157</td>\n",
       "      <td>156</td>\n",
       "      <td>154</td>\n",
       "      <td>143</td>\n",
       "      <td>129</td>\n",
       "      <td>1</td>\n",
       "    </tr>\n",
       "    <tr>\n",
       "      <td>2</td>\n",
       "      <td>X8.V1.1</td>\n",
       "      <td>-32</td>\n",
       "      <td>-39</td>\n",
       "      <td>-47</td>\n",
       "      <td>-37</td>\n",
       "      <td>-32</td>\n",
       "      <td>-36</td>\n",
       "      <td>-57</td>\n",
       "      <td>-73</td>\n",
       "      <td>-85</td>\n",
       "      <td>...</td>\n",
       "      <td>57</td>\n",
       "      <td>64</td>\n",
       "      <td>48</td>\n",
       "      <td>19</td>\n",
       "      <td>-12</td>\n",
       "      <td>-30</td>\n",
       "      <td>-35</td>\n",
       "      <td>-35</td>\n",
       "      <td>-36</td>\n",
       "      <td>5</td>\n",
       "    </tr>\n",
       "    <tr>\n",
       "      <td>3</td>\n",
       "      <td>X16.V1.60</td>\n",
       "      <td>-105</td>\n",
       "      <td>-101</td>\n",
       "      <td>-96</td>\n",
       "      <td>-92</td>\n",
       "      <td>-89</td>\n",
       "      <td>-95</td>\n",
       "      <td>-102</td>\n",
       "      <td>-100</td>\n",
       "      <td>-87</td>\n",
       "      <td>...</td>\n",
       "      <td>-82</td>\n",
       "      <td>-81</td>\n",
       "      <td>-80</td>\n",
       "      <td>-77</td>\n",
       "      <td>-85</td>\n",
       "      <td>-77</td>\n",
       "      <td>-72</td>\n",
       "      <td>-69</td>\n",
       "      <td>-65</td>\n",
       "      <td>5</td>\n",
       "    </tr>\n",
       "    <tr>\n",
       "      <td>4</td>\n",
       "      <td>X20.V1.54</td>\n",
       "      <td>-9</td>\n",
       "      <td>-65</td>\n",
       "      <td>-98</td>\n",
       "      <td>-102</td>\n",
       "      <td>-78</td>\n",
       "      <td>-48</td>\n",
       "      <td>-16</td>\n",
       "      <td>0</td>\n",
       "      <td>-21</td>\n",
       "      <td>...</td>\n",
       "      <td>4</td>\n",
       "      <td>2</td>\n",
       "      <td>-12</td>\n",
       "      <td>-32</td>\n",
       "      <td>-41</td>\n",
       "      <td>-65</td>\n",
       "      <td>-83</td>\n",
       "      <td>-89</td>\n",
       "      <td>-73</td>\n",
       "      <td>5</td>\n",
       "    </tr>\n",
       "  </tbody>\n",
       "</table>\n",
       "<p>5 rows × 180 columns</p>\n",
       "</div>"
      ],
      "text/plain": [
       "      Unnamed   X1   X2   X3   X4   X5   X6   X7   X8   X9  ...  X170  X171  \\\n",
       "0  X21.V1.791  135  190  229  223  192  125   55   -9  -33  ...   -17   -15   \n",
       "1  X15.V1.924  386  382  356  331  320  315  307  272  244  ...   164   150   \n",
       "2     X8.V1.1  -32  -39  -47  -37  -32  -36  -57  -73  -85  ...    57    64   \n",
       "3   X16.V1.60 -105 -101  -96  -92  -89  -95 -102 -100  -87  ...   -82   -81   \n",
       "4   X20.V1.54   -9  -65  -98 -102  -78  -48  -16    0  -21  ...     4     2   \n",
       "\n",
       "   X172  X173  X174  X175  X176  X177  X178  y  \n",
       "0   -31   -77  -103  -127  -116   -83   -51  4  \n",
       "1   146   152   157   156   154   143   129  1  \n",
       "2    48    19   -12   -30   -35   -35   -36  5  \n",
       "3   -80   -77   -85   -77   -72   -69   -65  5  \n",
       "4   -12   -32   -41   -65   -83   -89   -73  5  \n",
       "\n",
       "[5 rows x 180 columns]"
      ]
     },
     "execution_count": 2,
     "metadata": {},
     "output_type": "execute_result"
    }
   ],
   "source": [
    "# Read dataset\n",
    "df = pd.read_csv('./dataset/Epileptic_Seizure_Recognition.csv')\n",
    "df.head(5)"
   ]
  },
  {
   "cell_type": "markdown",
   "metadata": {},
   "source": [
    "We can see that our data consist of 179 features, though the first one is a patient ID we can ignore in this case. We also have the output column y, in that case we have a 1 indicating a seizure and 0,2,3,4 and 5 are non seizure events. In this case, we will also normalize the y column to generalize those cases as 0."
   ]
  },
  {
   "cell_type": "code",
   "execution_count": 3,
   "metadata": {},
   "outputs": [],
   "source": [
    "# Remove Unnamed column, it contains ID's that we won't use.\n",
    "df = df.drop(['Unnamed'], axis=1)\n",
    "\n",
    "# Normalize 2,3,4,5 as they are all considered a non-epileptic state we will call 0.\n",
    "for i in {2,3,4,5}:\n",
    "    df.y[df.y == i] = 0"
   ]
  },
  {
   "cell_type": "markdown",
   "metadata": {},
   "source": [
    "Time to do some normalization and scale the data. We are also going to split the data into train and test sets, with a test set consisting of the 20% of the total data we have."
   ]
  },
  {
   "cell_type": "code",
   "execution_count": 4,
   "metadata": {},
   "outputs": [],
   "source": [
    "normalized  = preprocessing.normalize(df, norm='l2')\n",
    "data = preprocessing.StandardScaler().fit_transform(normalized)\n",
    "\n",
    "X = data[:,:-1]             # Select only the features\n",
    "y = data[:,-1].astype(int)  # Select only the output\n",
    "\n",
    "# Do a split for test data.\n",
    "x_train, x_test, y_train, y_test = train_test_split(X, y, test_size = .20, random_state = 42)"
   ]
  },
  {
   "cell_type": "markdown",
   "metadata": {},
   "source": [
    "Let's try to find an ideal depth, in this case we tried values between 1 and 35 and we found ut that the best value for our test set was around 31."
   ]
  },
  {
   "cell_type": "code",
   "execution_count": 5,
   "metadata": {},
   "outputs": [
    {
     "name": "stdout",
     "output_type": "stream",
     "text": [
      "Best max_depth value to max the accuracy in our test set is 31\n"
     ]
    },
    {
     "data": {
      "text/plain": [
       "[<matplotlib.lines.Line2D at 0x2b468bd9f88>]"
      ]
     },
     "execution_count": 5,
     "metadata": {},
     "output_type": "execute_result"
    },
    {
     "data": {
      "image/png": "[encoded data removed]",
      "text/plain": [
       "<Figure size 432x288 with 1 Axes>"
      ]
     },
     "metadata": {
      "needs_background": "light"
     },
     "output_type": "display_data"
    }
   ],
   "source": [
    "proc_max_depth = False\n",
    "train_acc = []\n",
    "test_acc  = []\n",
    "if proc_max_depth:\n",
    "    for i in range(1,35):\n",
    "        model = RandomForestClassifier(150, max_depth=i)\n",
    "        model.fit(x_train, y_train)\n",
    "        train_acc.append(accuracy_score(y_train, model.predict(x_train)))\n",
    "        pipeline_prediction = model.predict(x_test)\n",
    "        test_acc.append(accuracy_score(y_test, model.predict(x_test)))\n",
    "else:\n",
    "    train_acc = [0.6271739130434782, 0.6271739130434782, 0.6271739130434782, 0.6271739130434782, 0.6303260869565217, 0.6563043478260869, 0.6778260869565217, 0.7166304347826087, 0.7460869565217392, 0.7772826086956521, 0.8177173913043478, 0.8660869565217392, 0.9143478260869565, 0.9479347826086957, 0.9689130434782609, 0.9828260869565217, 0.9889130434782609, 0.993804347826087, 0.9954347826086957, 0.9976086956521739, 0.9984782608695653, 0.9981521739130435, 0.9993478260869565, 0.9993478260869565, 0.9996739130434783, 0.9996739130434783, 0.9998913043478261, 1.0, 0.9998913043478261, 1.0, 1.0, 1.0, 1.0, 1.0]\n",
    "    test_acc  = [0.6239130434782608, 0.6239130434782608, 0.6239130434782608, 0.6239130434782608, 0.6243478260869565, 0.6413043478260869, 0.6495652173913044, 0.662608695652174, 0.671304347826087, 0.6730434782608695, 0.6839130434782609, 0.688695652173913, 0.6939130434782609, 0.6978260869565217, 0.7030434782608695, 0.7021739130434783, 0.7034782608695652, 0.7008695652173913, 0.7047826086956521, 0.7043478260869566, 0.7039130434782609, 0.7095652173913043, 0.7091304347826087, 0.7052173913043478, 0.7060869565217391, 0.7130434782608696, 0.711304347826087, 0.7039130434782609, 0.7095652173913043, 0.7130434782608696, 0.7108695652173913, 0.7147826086956521, 0.7139130434782609, 0.71]\n",
    "    \n",
    "print(\"\".join((\"Best max_depth value to max the accuracy in our test set is \", str(np.argmax(test_acc)))))\n",
    "plt.plot(range(1,35), train_acc, label = 'Training accuracy')\n",
    "plt.plot(range(1,35), test_acc, label = 'Testing accuracy')"
   ]
  },
  {
   "cell_type": "markdown",
   "metadata": {},
   "source": [
    "Now that we have a good model, lets work on it and make it even better. Let's do some hyperparameter tuning and hope we can improve the model as we go."
   ]
  },
  {
   "cell_type": "code",
   "execution_count": 6,
   "metadata": {},
   "outputs": [
    {
     "name": "stdout",
     "output_type": "stream",
     "text": [
      "0.8778260869565218\n"
     ]
    }
   ],
   "source": [
    "model = RandomForestClassifier(150, max_depth=31, max_features='sqrt', random_state = 42)\n",
    "model.fit(x_train, y_train)\n",
    "prediction = model.predict(x_test)\n",
    "accuracy = accuracy_score(y_test, prediction)\n",
    "print(accuracy)"
   ]
  },
  {
   "cell_type": "markdown",
   "metadata": {},
   "source": [
    "Our final model accuracy is of around 87.8%\n",
    "\n",
    "Last thing to do is to save the model for production."
   ]
  },
  {
   "cell_type": "code",
   "execution_count": 8,
   "metadata": {},
   "outputs": [
    {
     "data": {
      "text/plain": [
       "['production/model.joblib']"
      ]
     },
     "execution_count": 8,
     "metadata": {},
     "output_type": "execute_result"
    }
   ],
   "source": [
    "joblib.dump(model, \"production/model.joblib\")"
   ]
  },
  {
   "cell_type": "code",
   "execution_count": null,
   "metadata": {},
   "outputs": [],
   "source": []
  }
 ],
 "metadata": {
  "kernelspec": {
   "display_name": "Python 3",
   "language": "python",
   "name": "python3"
  },
  "language_info": {
   "codemirror_mode": {
    "name": "ipython",
    "version": 3
   },
   "file_extension": ".py",
   "mimetype": "text/x-python",
   "name": "python",
   "nbconvert_exporter": "python",
   "pygments_lexer": "ipython3",
   "version": "3.7.4"
  }
 },
 "nbformat": 4,
 "nbformat_minor": 2
}
